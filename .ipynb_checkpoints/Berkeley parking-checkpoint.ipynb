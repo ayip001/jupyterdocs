{
 "cells": [
  {
   "cell_type": "markdown",
   "metadata": {},
   "source": [
    "# Berkeley Vehicle-related Crime Heatmap\n",
    "By <a href=\"https://ayip.io\">Angus Yip</a>  \n",
    "### Introduction\n",
    "---\n",
    "The purpose of this notebook is to know where the safer areas for parking are in Berkeley.  \n",
    "The Berkeley crime dataset found <a href=\"https://data.cityofberkeley.info/Public-Safety/Berkeley-PD-Calls-for-Service/k2nh-s5h5\">here</a> contains a list of calls for service to the Berkeley Police Department.  \n",
    "I extracted calls related to vehicles using tools from the `pandas` library, then put the resulting DataFrame through the `gcloud` heatmap feature.  \n",
    "The resulting heatmap would indicate where it's safer to park in Berkeley in general.  \n",
    "I'm in no way or form responsible if you followed this guide for parking and still got broken into; data is powerful but it ain't Jesus."
   ]
  },
  {
   "cell_type": "markdown",
   "metadata": {},
   "source": [
    "### Imports\n",
    "---"
   ]
  },
  {
   "cell_type": "code",
   "execution_count": 1,
   "metadata": {
    "collapsed": true
   },
   "outputs": [],
   "source": [
    "import pandas as pd\n",
    "from sodapy import Socrata"
   ]
  },
  {
   "cell_type": "markdown",
   "metadata": {},
   "source": [
    "Standard stuff  \n",
    "`sodapy` is the Python bindings for the Socrata Open Data API  \n",
    "The docs could be found <a href=\"https://dev.socrata.com/foundry/data.cityofberkeley.info/s24d-wsnp\">here</a>.  "
   ]
  },
  {
   "cell_type": "markdown",
   "metadata": {},
   "source": [
    "### Getting the dataset into a pd.DataFrame\n",
    "---\n",
    "The following snippet is just a minor modification from a code example in the docs.  "
   ]
  },
  {
   "cell_type": "code",
   "execution_count": 2,
   "metadata": {},
   "outputs": [
    {
     "name": "stderr",
     "output_type": "stream",
     "text": [
      "WARNING:root:Requests made without an app_token will be subject to strict throttling limits.\n"
     ]
    },
    {
     "data": {
      "text/html": [
       "<div>\n",
       "<style scoped>\n",
       "    .dataframe tbody tr th:only-of-type {\n",
       "        vertical-align: middle;\n",
       "    }\n",
       "\n",
       "    .dataframe tbody tr th {\n",
       "        vertical-align: top;\n",
       "    }\n",
       "\n",
       "    .dataframe thead th {\n",
       "        text-align: right;\n",
       "    }\n",
       "</style>\n",
       "<table border=\"1\" class=\"dataframe\">\n",
       "  <thead>\n",
       "    <tr style=\"text-align: right;\">\n",
       "      <th></th>\n",
       "      <th>blkaddr</th>\n",
       "      <th>block_location</th>\n",
       "      <th>block_location_address</th>\n",
       "      <th>block_location_city</th>\n",
       "      <th>block_location_state</th>\n",
       "      <th>caseno</th>\n",
       "      <th>city</th>\n",
       "      <th>cvdow</th>\n",
       "      <th>cvlegend</th>\n",
       "      <th>eventdt</th>\n",
       "      <th>eventtm</th>\n",
       "      <th>indbdate</th>\n",
       "      <th>offense</th>\n",
       "      <th>state</th>\n",
       "    </tr>\n",
       "  </thead>\n",
       "  <tbody>\n",
       "    <tr>\n",
       "      <th>320</th>\n",
       "      <td>BANCROFT WAY &amp; FULTON ST</td>\n",
       "      <td>{'type': 'Point', 'coordinates': [-122.265858,...</td>\n",
       "      <td>BANCROFT WAY &amp; FULTON ST</td>\n",
       "      <td>Berkeley</td>\n",
       "      <td>CA</td>\n",
       "      <td>17030603</td>\n",
       "      <td>Berkeley</td>\n",
       "      <td>1</td>\n",
       "      <td>BURGLARY - VEHICLE</td>\n",
       "      <td>2017-05-29T00:00:00.000</td>\n",
       "      <td>12:00</td>\n",
       "      <td>2017-11-14T03:30:12.000</td>\n",
       "      <td>BURGLARY AUTO</td>\n",
       "      <td>CA</td>\n",
       "    </tr>\n",
       "    <tr>\n",
       "      <th>1225</th>\n",
       "      <td>800 COLUSA AVE</td>\n",
       "      <td>{'type': 'Point', 'coordinates': [-122.281105,...</td>\n",
       "      <td>800 COLUSA AVE</td>\n",
       "      <td>Berkeley</td>\n",
       "      <td>CA</td>\n",
       "      <td>17046923</td>\n",
       "      <td>Berkeley</td>\n",
       "      <td>4</td>\n",
       "      <td>ALL OTHER OFFENSES</td>\n",
       "      <td>2017-08-10T00:00:00.000</td>\n",
       "      <td>19:44</td>\n",
       "      <td>2017-11-14T03:30:14.000</td>\n",
       "      <td>MUNICIPAL CODE</td>\n",
       "      <td>CA</td>\n",
       "    </tr>\n",
       "    <tr>\n",
       "      <th>2128</th>\n",
       "      <td>2300 DWIGHT WAY</td>\n",
       "      <td>{'type': 'Point', 'coordinates': [-122.262993,...</td>\n",
       "      <td>2300 DWIGHT WAY</td>\n",
       "      <td>Berkeley</td>\n",
       "      <td>CA</td>\n",
       "      <td>17040762</td>\n",
       "      <td>Berkeley</td>\n",
       "      <td>4</td>\n",
       "      <td>BURGLARY - RESIDENTIAL</td>\n",
       "      <td>2017-07-13T00:00:00.000</td>\n",
       "      <td>19:00</td>\n",
       "      <td>2017-11-14T03:30:13.000</td>\n",
       "      <td>BURGLARY RESIDENTIAL</td>\n",
       "      <td>CA</td>\n",
       "    </tr>\n",
       "    <tr>\n",
       "      <th>2498</th>\n",
       "      <td>2000 CENTER ST</td>\n",
       "      <td>{'type': 'Point', 'coordinates': [-122.270557,...</td>\n",
       "      <td>2000 CENTER ST</td>\n",
       "      <td>Berkeley</td>\n",
       "      <td>CA</td>\n",
       "      <td>17039877</td>\n",
       "      <td>Berkeley</td>\n",
       "      <td>1</td>\n",
       "      <td>ASSAULT</td>\n",
       "      <td>2017-07-10T00:00:00.000</td>\n",
       "      <td>00:41</td>\n",
       "      <td>2017-11-14T03:30:13.000</td>\n",
       "      <td>ASSAULT/BATTERY FEL.</td>\n",
       "      <td>CA</td>\n",
       "    </tr>\n",
       "    <tr>\n",
       "      <th>4477</th>\n",
       "      <td>CHANNING WAY &amp; DANA ST</td>\n",
       "      <td>{'type': 'Point', 'coordinates': [-122.26108, ...</td>\n",
       "      <td>CHANNING WAY &amp; DANA ST</td>\n",
       "      <td>Berkeley</td>\n",
       "      <td>CA</td>\n",
       "      <td>17034993</td>\n",
       "      <td>Berkeley</td>\n",
       "      <td>0</td>\n",
       "      <td>DISORDERLY CONDUCT</td>\n",
       "      <td>2017-06-18T00:00:00.000</td>\n",
       "      <td>01:03</td>\n",
       "      <td>2017-11-14T03:30:12.000</td>\n",
       "      <td>DISTURBANCE</td>\n",
       "      <td>CA</td>\n",
       "    </tr>\n",
       "    <tr>\n",
       "      <th>4456</th>\n",
       "      <td>2500 DWIGHT WAY</td>\n",
       "      <td>{'type': 'Point', 'coordinates': [-122.258331,...</td>\n",
       "      <td>2500 DWIGHT WAY</td>\n",
       "      <td>Berkeley</td>\n",
       "      <td>CA</td>\n",
       "      <td>17061044</td>\n",
       "      <td>Berkeley</td>\n",
       "      <td>6</td>\n",
       "      <td>BURGLARY - VEHICLE</td>\n",
       "      <td>2017-10-07T00:00:00.000</td>\n",
       "      <td>18:00</td>\n",
       "      <td>2017-11-14T03:30:19.000</td>\n",
       "      <td>BURGLARY AUTO</td>\n",
       "      <td>CA</td>\n",
       "    </tr>\n",
       "    <tr>\n",
       "      <th>3142</th>\n",
       "      <td>2600 ASHBY AVE</td>\n",
       "      <td>{'type': 'Point', 'coordinates': [-122.255248,...</td>\n",
       "      <td>2600 ASHBY AVE</td>\n",
       "      <td>Berkeley</td>\n",
       "      <td>CA</td>\n",
       "      <td>17063230</td>\n",
       "      <td>Berkeley</td>\n",
       "      <td>3</td>\n",
       "      <td>ASSAULT</td>\n",
       "      <td>2017-10-18T00:00:00.000</td>\n",
       "      <td>17:00</td>\n",
       "      <td>2017-11-14T03:30:19.000</td>\n",
       "      <td>ASSAULT/BATTERY MISD.</td>\n",
       "      <td>CA</td>\n",
       "    </tr>\n",
       "    <tr>\n",
       "      <th>4072</th>\n",
       "      <td>2400 MCGEE AVE</td>\n",
       "      <td>{'type': 'Point', 'coordinates': [-122.276835,...</td>\n",
       "      <td>2400 MCGEE AVE</td>\n",
       "      <td>Berkeley</td>\n",
       "      <td>CA</td>\n",
       "      <td>17091521</td>\n",
       "      <td>Berkeley</td>\n",
       "      <td>3</td>\n",
       "      <td>BURGLARY - VEHICLE</td>\n",
       "      <td>2017-08-02T00:00:00.000</td>\n",
       "      <td>19:45</td>\n",
       "      <td>2017-11-14T03:30:14.000</td>\n",
       "      <td>BURGLARY AUTO</td>\n",
       "      <td>CA</td>\n",
       "    </tr>\n",
       "    <tr>\n",
       "      <th>5204</th>\n",
       "      <td>1900 ALLSTON WAY</td>\n",
       "      <td>{'type': 'Point', 'coordinates': [-122.272701,...</td>\n",
       "      <td>1900 ALLSTON WAY</td>\n",
       "      <td>Berkeley</td>\n",
       "      <td>CA</td>\n",
       "      <td>17051310</td>\n",
       "      <td>Berkeley</td>\n",
       "      <td>2</td>\n",
       "      <td>DRUG VIOLATION</td>\n",
       "      <td>2017-08-29T00:00:00.000</td>\n",
       "      <td>12:00</td>\n",
       "      <td>2017-11-14T03:30:16.000</td>\n",
       "      <td>NARCOTICS</td>\n",
       "      <td>CA</td>\n",
       "    </tr>\n",
       "    <tr>\n",
       "      <th>3529</th>\n",
       "      <td>1400 GRANT ST</td>\n",
       "      <td>{'type': 'Point', 'coordinates': [-122.27627, ...</td>\n",
       "      <td>1400 GRANT ST</td>\n",
       "      <td>Berkeley</td>\n",
       "      <td>CA</td>\n",
       "      <td>17091993</td>\n",
       "      <td>Berkeley</td>\n",
       "      <td>2</td>\n",
       "      <td>LARCENY</td>\n",
       "      <td>2017-10-03T00:00:00.000</td>\n",
       "      <td>20:00</td>\n",
       "      <td>2017-11-14T03:30:19.000</td>\n",
       "      <td>THEFT MISD. (UNDER $950)</td>\n",
       "      <td>CA</td>\n",
       "    </tr>\n",
       "  </tbody>\n",
       "</table>\n",
       "</div>"
      ],
      "text/plain": [
       "                       blkaddr  \\\n",
       "320   BANCROFT WAY & FULTON ST   \n",
       "1225            800 COLUSA AVE   \n",
       "2128           2300 DWIGHT WAY   \n",
       "2498            2000 CENTER ST   \n",
       "4477    CHANNING WAY & DANA ST   \n",
       "4456           2500 DWIGHT WAY   \n",
       "3142            2600 ASHBY AVE   \n",
       "4072            2400 MCGEE AVE   \n",
       "5204          1900 ALLSTON WAY   \n",
       "3529             1400 GRANT ST   \n",
       "\n",
       "                                         block_location  \\\n",
       "320   {'type': 'Point', 'coordinates': [-122.265858,...   \n",
       "1225  {'type': 'Point', 'coordinates': [-122.281105,...   \n",
       "2128  {'type': 'Point', 'coordinates': [-122.262993,...   \n",
       "2498  {'type': 'Point', 'coordinates': [-122.270557,...   \n",
       "4477  {'type': 'Point', 'coordinates': [-122.26108, ...   \n",
       "4456  {'type': 'Point', 'coordinates': [-122.258331,...   \n",
       "3142  {'type': 'Point', 'coordinates': [-122.255248,...   \n",
       "4072  {'type': 'Point', 'coordinates': [-122.276835,...   \n",
       "5204  {'type': 'Point', 'coordinates': [-122.272701,...   \n",
       "3529  {'type': 'Point', 'coordinates': [-122.27627, ...   \n",
       "\n",
       "        block_location_address block_location_city block_location_state  \\\n",
       "320   BANCROFT WAY & FULTON ST            Berkeley                   CA   \n",
       "1225            800 COLUSA AVE            Berkeley                   CA   \n",
       "2128           2300 DWIGHT WAY            Berkeley                   CA   \n",
       "2498            2000 CENTER ST            Berkeley                   CA   \n",
       "4477    CHANNING WAY & DANA ST            Berkeley                   CA   \n",
       "4456           2500 DWIGHT WAY            Berkeley                   CA   \n",
       "3142            2600 ASHBY AVE            Berkeley                   CA   \n",
       "4072            2400 MCGEE AVE            Berkeley                   CA   \n",
       "5204          1900 ALLSTON WAY            Berkeley                   CA   \n",
       "3529             1400 GRANT ST            Berkeley                   CA   \n",
       "\n",
       "        caseno      city cvdow                cvlegend  \\\n",
       "320   17030603  Berkeley     1      BURGLARY - VEHICLE   \n",
       "1225  17046923  Berkeley     4      ALL OTHER OFFENSES   \n",
       "2128  17040762  Berkeley     4  BURGLARY - RESIDENTIAL   \n",
       "2498  17039877  Berkeley     1                 ASSAULT   \n",
       "4477  17034993  Berkeley     0      DISORDERLY CONDUCT   \n",
       "4456  17061044  Berkeley     6      BURGLARY - VEHICLE   \n",
       "3142  17063230  Berkeley     3                 ASSAULT   \n",
       "4072  17091521  Berkeley     3      BURGLARY - VEHICLE   \n",
       "5204  17051310  Berkeley     2          DRUG VIOLATION   \n",
       "3529  17091993  Berkeley     2                 LARCENY   \n",
       "\n",
       "                      eventdt eventtm                 indbdate  \\\n",
       "320   2017-05-29T00:00:00.000   12:00  2017-11-14T03:30:12.000   \n",
       "1225  2017-08-10T00:00:00.000   19:44  2017-11-14T03:30:14.000   \n",
       "2128  2017-07-13T00:00:00.000   19:00  2017-11-14T03:30:13.000   \n",
       "2498  2017-07-10T00:00:00.000   00:41  2017-11-14T03:30:13.000   \n",
       "4477  2017-06-18T00:00:00.000   01:03  2017-11-14T03:30:12.000   \n",
       "4456  2017-10-07T00:00:00.000   18:00  2017-11-14T03:30:19.000   \n",
       "3142  2017-10-18T00:00:00.000   17:00  2017-11-14T03:30:19.000   \n",
       "4072  2017-08-02T00:00:00.000   19:45  2017-11-14T03:30:14.000   \n",
       "5204  2017-08-29T00:00:00.000   12:00  2017-11-14T03:30:16.000   \n",
       "3529  2017-10-03T00:00:00.000   20:00  2017-11-14T03:30:19.000   \n",
       "\n",
       "                       offense state  \n",
       "320              BURGLARY AUTO    CA  \n",
       "1225            MUNICIPAL CODE    CA  \n",
       "2128      BURGLARY RESIDENTIAL    CA  \n",
       "2498      ASSAULT/BATTERY FEL.    CA  \n",
       "4477               DISTURBANCE    CA  \n",
       "4456             BURGLARY AUTO    CA  \n",
       "3142     ASSAULT/BATTERY MISD.    CA  \n",
       "4072             BURGLARY AUTO    CA  \n",
       "5204                 NARCOTICS    CA  \n",
       "3529  THEFT MISD. (UNDER $950)    CA  "
      ]
     },
     "execution_count": 2,
     "metadata": {},
     "output_type": "execute_result"
    }
   ],
   "source": [
    "client = Socrata(\"data.cityofberkeley.info\", None)\n",
    "results = client.get(\"s24d-wsnp\", limit=10000)\n",
    "\n",
    "df = pd.DataFrame.from_records(results)\n",
    "df.sample(10)"
   ]
  },
  {
   "cell_type": "markdown",
   "metadata": {},
   "source": [
    "It's not the cleanest looking df, and we need a df that only has `['latitude', 'longitude']` as columns for the heatmap in `gmaps` to work.  "
   ]
  },
  {
   "cell_type": "code",
   "execution_count": 3,
   "metadata": {},
   "outputs": [
    {
     "data": {
      "text/plain": [
       "'Rows: 5644'"
      ]
     },
     "execution_count": 3,
     "metadata": {},
     "output_type": "execute_result"
    }
   ],
   "source": [
    "\"Rows: %d\" % len(df.index) # lets also find out how many rows there are"
   ]
  },
  {
   "cell_type": "markdown",
   "metadata": {},
   "source": [
    "### Parsing\n",
    "---\n",
    "Here we can see that the `cvlegend` column contains a brief description of the crime.  \n",
    "Upon futher inspection, we would find that each crime that could happen to our parked car conveniently contains the string `\"VEHICLE\"`.  "
   ]
  },
  {
   "cell_type": "code",
   "execution_count": 4,
   "metadata": {},
   "outputs": [
    {
     "data": {
      "text/html": [
       "<div>\n",
       "<style scoped>\n",
       "    .dataframe tbody tr th:only-of-type {\n",
       "        vertical-align: middle;\n",
       "    }\n",
       "\n",
       "    .dataframe tbody tr th {\n",
       "        vertical-align: top;\n",
       "    }\n",
       "\n",
       "    .dataframe thead th {\n",
       "        text-align: right;\n",
       "    }\n",
       "</style>\n",
       "<table border=\"1\" class=\"dataframe\">\n",
       "  <thead>\n",
       "    <tr style=\"text-align: right;\">\n",
       "      <th></th>\n",
       "      <th>block_location</th>\n",
       "      <th>cvlegend</th>\n",
       "    </tr>\n",
       "  </thead>\n",
       "  <tbody>\n",
       "    <tr>\n",
       "      <th>1</th>\n",
       "      <td>NaN</td>\n",
       "      <td>MOTOR VEHICLE THEFT</td>\n",
       "    </tr>\n",
       "    <tr>\n",
       "      <th>4</th>\n",
       "      <td>NaN</td>\n",
       "      <td>MOTOR VEHICLE THEFT</td>\n",
       "    </tr>\n",
       "    <tr>\n",
       "      <th>6</th>\n",
       "      <td>{'type': 'Point', 'coordinates': [-122.269974,...</td>\n",
       "      <td>BURGLARY - VEHICLE</td>\n",
       "    </tr>\n",
       "    <tr>\n",
       "      <th>11</th>\n",
       "      <td>NaN</td>\n",
       "      <td>BURGLARY - VEHICLE</td>\n",
       "    </tr>\n",
       "    <tr>\n",
       "      <th>15</th>\n",
       "      <td>NaN</td>\n",
       "      <td>BURGLARY - VEHICLE</td>\n",
       "    </tr>\n",
       "  </tbody>\n",
       "</table>\n",
       "</div>"
      ],
      "text/plain": [
       "                                       block_location             cvlegend\n",
       "1                                                 NaN  MOTOR VEHICLE THEFT\n",
       "4                                                 NaN  MOTOR VEHICLE THEFT\n",
       "6   {'type': 'Point', 'coordinates': [-122.269974,...   BURGLARY - VEHICLE\n",
       "11                                                NaN   BURGLARY - VEHICLE\n",
       "15                                                NaN   BURGLARY - VEHICLE"
      ]
     },
     "execution_count": 4,
     "metadata": {},
     "output_type": "execute_result"
    }
   ],
   "source": [
    "df[['block_location', 'cvlegend']][df['cvlegend'].str.contains(\"VEHICLE\")].head()"
   ]
  },
  {
   "cell_type": "markdown",
   "metadata": {},
   "source": [
    "Omitting the `NaN` rows."
   ]
  },
  {
   "cell_type": "code",
   "execution_count": 5,
   "metadata": {
    "scrolled": true
   },
   "outputs": [
    {
     "data": {
      "text/html": [
       "<div>\n",
       "<style scoped>\n",
       "    .dataframe tbody tr th:only-of-type {\n",
       "        vertical-align: middle;\n",
       "    }\n",
       "\n",
       "    .dataframe tbody tr th {\n",
       "        vertical-align: top;\n",
       "    }\n",
       "\n",
       "    .dataframe thead th {\n",
       "        text-align: right;\n",
       "    }\n",
       "</style>\n",
       "<table border=\"1\" class=\"dataframe\">\n",
       "  <thead>\n",
       "    <tr style=\"text-align: right;\">\n",
       "      <th></th>\n",
       "      <th>block_location</th>\n",
       "    </tr>\n",
       "  </thead>\n",
       "  <tbody>\n",
       "    <tr>\n",
       "      <th>6</th>\n",
       "      <td>{'type': 'Point', 'coordinates': [-122.269974,...</td>\n",
       "    </tr>\n",
       "    <tr>\n",
       "      <th>27</th>\n",
       "      <td>{'type': 'Point', 'coordinates': [-122.297995,...</td>\n",
       "    </tr>\n",
       "    <tr>\n",
       "      <th>38</th>\n",
       "      <td>{'type': 'Point', 'coordinates': [-122.269762,...</td>\n",
       "    </tr>\n",
       "    <tr>\n",
       "      <th>40</th>\n",
       "      <td>{'type': 'Point', 'coordinates': [-122.251978,...</td>\n",
       "    </tr>\n",
       "    <tr>\n",
       "      <th>43</th>\n",
       "      <td>{'type': 'Point', 'coordinates': [-122.250875,...</td>\n",
       "    </tr>\n",
       "  </tbody>\n",
       "</table>\n",
       "</div>"
      ],
      "text/plain": [
       "                                       block_location\n",
       "6   {'type': 'Point', 'coordinates': [-122.269974,...\n",
       "27  {'type': 'Point', 'coordinates': [-122.297995,...\n",
       "38  {'type': 'Point', 'coordinates': [-122.269762,...\n",
       "40  {'type': 'Point', 'coordinates': [-122.251978,...\n",
       "43  {'type': 'Point', 'coordinates': [-122.250875,..."
      ]
     },
     "execution_count": 5,
     "metadata": {},
     "output_type": "execute_result"
    }
   ],
   "source": [
    "df = df[['block_location']][df['cvlegend'].str.contains(\"VEHICLE\")].dropna()\n",
    "df.head()"
   ]
  },
  {
   "cell_type": "markdown",
   "metadata": {},
   "source": [
    "Almost there. Now we just need to convert the `dict` inside of every row into two seperate columns.  \n",
    "The coordinates are nested 2 levels deep so we need to `.apply(pd.Series)` twice.  "
   ]
  },
  {
   "cell_type": "code",
   "execution_count": 6,
   "metadata": {},
   "outputs": [
    {
     "data": {
      "text/html": [
       "<div>\n",
       "<style scoped>\n",
       "    .dataframe tbody tr th:only-of-type {\n",
       "        vertical-align: middle;\n",
       "    }\n",
       "\n",
       "    .dataframe tbody tr th {\n",
       "        vertical-align: top;\n",
       "    }\n",
       "\n",
       "    .dataframe thead th {\n",
       "        text-align: right;\n",
       "    }\n",
       "</style>\n",
       "<table border=\"1\" class=\"dataframe\">\n",
       "  <thead>\n",
       "    <tr style=\"text-align: right;\">\n",
       "      <th></th>\n",
       "      <th>0</th>\n",
       "      <th>1</th>\n",
       "    </tr>\n",
       "  </thead>\n",
       "  <tbody>\n",
       "    <tr>\n",
       "      <th>6</th>\n",
       "      <td>-122.269974</td>\n",
       "      <td>37.881525</td>\n",
       "    </tr>\n",
       "    <tr>\n",
       "      <th>27</th>\n",
       "      <td>-122.297995</td>\n",
       "      <td>37.879708</td>\n",
       "    </tr>\n",
       "    <tr>\n",
       "      <th>38</th>\n",
       "      <td>-122.269762</td>\n",
       "      <td>37.866426</td>\n",
       "    </tr>\n",
       "    <tr>\n",
       "      <th>40</th>\n",
       "      <td>-122.251978</td>\n",
       "      <td>37.883202</td>\n",
       "    </tr>\n",
       "    <tr>\n",
       "      <th>43</th>\n",
       "      <td>-122.250875</td>\n",
       "      <td>37.888241</td>\n",
       "    </tr>\n",
       "  </tbody>\n",
       "</table>\n",
       "</div>"
      ],
      "text/plain": [
       "             0          1\n",
       "6  -122.269974  37.881525\n",
       "27 -122.297995  37.879708\n",
       "38 -122.269762  37.866426\n",
       "40 -122.251978  37.883202\n",
       "43 -122.250875  37.888241"
      ]
     },
     "execution_count": 6,
     "metadata": {},
     "output_type": "execute_result"
    }
   ],
   "source": [
    "df = df['block_location'].apply(pd.Series)['coordinates'].apply(pd.Series)\n",
    "df.head()"
   ]
  },
  {
   "cell_type": "markdown",
   "metadata": {},
   "source": [
    "`gmaps` isn't gonna be happy with long lat."
   ]
  },
  {
   "cell_type": "code",
   "execution_count": 7,
   "metadata": {
    "collapsed": true
   },
   "outputs": [],
   "source": [
    "df = df[[1, 0]] # long lat to lat long"
   ]
  },
  {
   "cell_type": "markdown",
   "metadata": {},
   "source": [
    "Perfection."
   ]
  },
  {
   "cell_type": "markdown",
   "metadata": {},
   "source": [
    "### One last import\n",
    "---\n",
    "Here are the `gmaps` <a href=\"https://github.com/pbugnion/gmaps#installing-gmaps-with-pip\">installation guide</a> and <a href=\"http://jupyter-gmaps.readthedocs.io/en/latest/tutorial.html\">docs</a>.  \n",
    "You'll need a <a href=\"https://developers.google.com/maps/documentation/javascript/\">Google Maps Web Javascript API</a> key for this to work.  "
   ]
  },
  {
   "cell_type": "code",
   "execution_count": 9,
   "metadata": {},
   "outputs": [],
   "source": [
    "import gmaps\n",
    "\n",
    "gmaps.configure(api_key=API_KEY)"
   ]
  },
  {
   "cell_type": "markdown",
   "metadata": {},
   "source": [
    "Then we set center and zoom level of our `gmaps.figure`."
   ]
  },
  {
   "cell_type": "code",
   "execution_count": 10,
   "metadata": {
    "collapsed": true
   },
   "outputs": [],
   "source": [
    "UCB_LAT_LONG = (37.8719, -122.2585)\n",
    "fig = gmaps.figure(center=UCB_LAT_LONG, zoom_level=14)"
   ]
  },
  {
   "cell_type": "markdown",
   "metadata": {},
   "source": [
    "Then we put our parsed DataFrame into a `gmaps.heatmap_layer` and turn it on.  "
   ]
  },
  {
   "cell_type": "code",
   "execution_count": 11,
   "metadata": {
    "collapsed": true
   },
   "outputs": [],
   "source": [
    "heatmap_layer = gmaps.heatmap_layer(df)\n",
    "fig.add_layer(heatmap_layer)"
   ]
  },
  {
   "cell_type": "markdown",
   "metadata": {},
   "source": [
    "Final aesthetic stuff and alas..."
   ]
  },
  {
   "cell_type": "code",
   "execution_count": 12,
   "metadata": {},
   "outputs": [
    {
     "data": {
      "application/vnd.jupyter.widget-view+json": {
       "model_id": "8975dc2f704d4267aafd83494468584e",
       "version_major": 2,
       "version_minor": 0
      },
      "text/html": [
       "<p>Failed to display Jupyter Widget of type <code>Figure</code>.</p>\n",
       "<p>\n",
       "  If you're reading this message in Jupyter Notebook or JupyterLab, it may mean\n",
       "  that the widgets JavaScript is still loading. If this message persists, it\n",
       "  likely means that the widgets JavaScript library is either not installed or\n",
       "  not enabled. See the <a href=\"https://ipywidgets.readthedocs.io/en/stable/user_install.html\">Jupyter\n",
       "  Widgets Documentation</a> for setup instructions.\n",
       "</p>\n",
       "<p>\n",
       "  If you're reading this message in another notebook frontend (for example, a static\n",
       "  rendering on GitHub or <a href=\"https://nbviewer.jupyter.org/\">NBViewer</a>),\n",
       "  it may mean that your frontend doesn't currently support widgets.\n",
       "</p>\n"
      ],
      "text/plain": [
       "Figure()"
      ]
     },
     "metadata": {},
     "output_type": "display_data"
    }
   ],
   "source": [
    "heatmap_layer.gradient = [\n",
    "    (255,255,0,0),\n",
    "    'red',\n",
    "    'red'\n",
    "]\n",
    "heatmap_layer.point_radius = 30\n",
    "fig"
   ]
  },
  {
   "cell_type": "markdown",
   "metadata": {},
   "source": [
    "### Uh oh GitHub can't display a gmaps widget yet :(\n",
    "---\n",
    "It should be fine though if you cloned this repository, followed the installation guide for `gmaps`, and ran the cells again.  \n",
    "Here's an attached image to show what our heatmap would look like."
   ]
  },
  {
   "cell_type": "markdown",
   "metadata": {
    "collapsed": true
   },
   "source": [
    "<img src=\"./images/ucb_parking_map.png\" />"
   ]
  },
  {
   "cell_type": "markdown",
   "metadata": {},
   "source": [
    "Thanks for reading and good luck fam"
   ]
  }
 ],
 "metadata": {
  "kernelspec": {
   "display_name": "Python 3",
   "language": "python",
   "name": "python3"
  },
  "language_info": {
   "codemirror_mode": {
    "name": "ipython",
    "version": 3
   },
   "file_extension": ".py",
   "mimetype": "text/x-python",
   "name": "python",
   "nbconvert_exporter": "python",
   "pygments_lexer": "ipython3",
   "version": "3.6.3"
  }
 },
 "nbformat": 4,
 "nbformat_minor": 2
}
