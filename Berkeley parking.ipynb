{
 "cells": [
  {
   "cell_type": "markdown",
   "metadata": {},
   "source": [
    "# Berkeley Vehicle-related Crime Heatmap\n",
    "By <a href=\"https://ayip.io\">Angus Yip</a>  \n",
    "### Introduction\n",
    "---\n",
    "The purpose of this notebook is to know where the safer areas for parking are in Berkeley.  \n",
    "The Berkeley crime dataset found <a href=\"https://data.cityofberkeley.info/Public-Safety/Berkeley-PD-Calls-for-Service/k2nh-s5h5\">here</a> contains a list of calls for service to the Berkeley Police Department.  \n",
    "I extracted calls related to vehicles using tools from the `pandas` library, then put the resulting DataFrame through the `gcloud` heatmap feature.  \n",
    "The resulting heatmap would indicate where it's safer to park in Berkeley in general.  \n",
    "I'm in no way or form responsible if you followed this guide for parking and still got broken into; data is powerful but it ain't Jesus."
   ]
  },
  {
   "cell_type": "markdown",
   "metadata": {},
   "source": [
    "### Imports\n",
    "---"
   ]
  },
  {
   "cell_type": "code",
   "execution_count": 2,
   "metadata": {
    "collapsed": true
   },
   "outputs": [],
   "source": [
    "import pandas as pd\n",
    "from sodapy import Socrata"
   ]
  },
  {
   "cell_type": "markdown",
   "metadata": {},
   "source": [
    "Standard stuff  \n",
    "`sodapy` is the Python bindings for the Socrata Open Data API  \n",
    "The docs could be found <a href=\"https://dev.socrata.com/foundry/data.cityofberkeley.info/s24d-wsnp\">here</a>.  "
   ]
  },
  {
   "cell_type": "markdown",
   "metadata": {},
   "source": [
    "### Getting the dataset into a pd.DataFrame\n",
    "---\n",
    "The following snippet is just a minor modification from a code example in the docs.  "
   ]
  },
  {
   "cell_type": "code",
   "execution_count": 3,
   "metadata": {},
   "outputs": [
    {
     "name": "stderr",
     "output_type": "stream",
     "text": [
      "WARNING:root:Requests made without an app_token will be subject to strict throttling limits.\n"
     ]
    },
    {
     "data": {
      "text/html": [
       "<div>\n",
       "<style scoped>\n",
       "    .dataframe tbody tr th:only-of-type {\n",
       "        vertical-align: middle;\n",
       "    }\n",
       "\n",
       "    .dataframe tbody tr th {\n",
       "        vertical-align: top;\n",
       "    }\n",
       "\n",
       "    .dataframe thead th {\n",
       "        text-align: right;\n",
       "    }\n",
       "</style>\n",
       "<table border=\"1\" class=\"dataframe\">\n",
       "  <thead>\n",
       "    <tr style=\"text-align: right;\">\n",
       "      <th></th>\n",
       "      <th>:@computed_region_3ini_iehf</th>\n",
       "      <th>:@computed_region_5bih_7r3y</th>\n",
       "      <th>:@computed_region_5s6d_2f32</th>\n",
       "      <th>:@computed_region_x3q3_gi3e</th>\n",
       "      <th>blkaddr</th>\n",
       "      <th>block_location</th>\n",
       "      <th>block_location_address</th>\n",
       "      <th>block_location_city</th>\n",
       "      <th>block_location_state</th>\n",
       "      <th>caseno</th>\n",
       "      <th>city</th>\n",
       "      <th>cvdow</th>\n",
       "      <th>cvlegend</th>\n",
       "      <th>eventdt</th>\n",
       "      <th>eventtm</th>\n",
       "      <th>indbdate</th>\n",
       "      <th>offense</th>\n",
       "      <th>state</th>\n",
       "    </tr>\n",
       "  </thead>\n",
       "  <tbody>\n",
       "    <tr>\n",
       "      <th>976</th>\n",
       "      <td>13</td>\n",
       "      <td>19</td>\n",
       "      <td>1496</td>\n",
       "      <td>6</td>\n",
       "      <td>COLLEGE AVENUE &amp; PARKER ST</td>\n",
       "      <td>{'type': 'Point', 'coordinates': [-122.253693,...</td>\n",
       "      <td>COLLEGE AVENUE &amp; PARKER ST</td>\n",
       "      <td>Berkeley</td>\n",
       "      <td>CA</td>\n",
       "      <td>17062574</td>\n",
       "      <td>Berkeley</td>\n",
       "      <td>0</td>\n",
       "      <td>LARCENY</td>\n",
       "      <td>2017-10-15T00:00:00.000</td>\n",
       "      <td>21:00</td>\n",
       "      <td>2017-11-13T03:30:13.000</td>\n",
       "      <td>THEFT MISD. (UNDER $950)</td>\n",
       "      <td>CA</td>\n",
       "    </tr>\n",
       "    <tr>\n",
       "      <th>392</th>\n",
       "      <td>6</td>\n",
       "      <td>11</td>\n",
       "      <td>1502</td>\n",
       "      <td>5</td>\n",
       "      <td>200 MARINA BLVD</td>\n",
       "      <td>{'type': 'Point', 'coordinates': [-122.313656,...</td>\n",
       "      <td>200 MARINA BLVD</td>\n",
       "      <td>Berkeley</td>\n",
       "      <td>CA</td>\n",
       "      <td>17053284</td>\n",
       "      <td>Berkeley</td>\n",
       "      <td>2</td>\n",
       "      <td>BURGLARY - VEHICLE</td>\n",
       "      <td>2017-09-05T00:00:00.000</td>\n",
       "      <td>10:50</td>\n",
       "      <td>2017-11-13T03:30:19.000</td>\n",
       "      <td>BURGLARY AUTO</td>\n",
       "      <td>CA</td>\n",
       "    </tr>\n",
       "    <tr>\n",
       "      <th>639</th>\n",
       "      <td>5</td>\n",
       "      <td>11</td>\n",
       "      <td>1502</td>\n",
       "      <td>8</td>\n",
       "      <td>800 BANCROFT WAY</td>\n",
       "      <td>{'type': 'Point', 'coordinates': [-122.296893,...</td>\n",
       "      <td>800 BANCROFT WAY</td>\n",
       "      <td>Berkeley</td>\n",
       "      <td>CA</td>\n",
       "      <td>17040961</td>\n",
       "      <td>Berkeley</td>\n",
       "      <td>5</td>\n",
       "      <td>ASSAULT</td>\n",
       "      <td>2017-07-14T00:00:00.000</td>\n",
       "      <td>19:49</td>\n",
       "      <td>2017-11-13T03:30:14.000</td>\n",
       "      <td>ASSAULT/BATTERY FEL.</td>\n",
       "      <td>CA</td>\n",
       "    </tr>\n",
       "    <tr>\n",
       "      <th>278</th>\n",
       "      <td>NaN</td>\n",
       "      <td>NaN</td>\n",
       "      <td>NaN</td>\n",
       "      <td>NaN</td>\n",
       "      <td>2488 MARKET AVENUE</td>\n",
       "      <td>NaN</td>\n",
       "      <td>2488 MARKET AVENUE</td>\n",
       "      <td>Berkeley</td>\n",
       "      <td>CA</td>\n",
       "      <td>17031217</td>\n",
       "      <td>Berkeley</td>\n",
       "      <td>4</td>\n",
       "      <td>DRUG VIOLATION</td>\n",
       "      <td>2017-06-01T00:00:00.000</td>\n",
       "      <td>09:43</td>\n",
       "      <td>2017-11-13T03:30:14.000</td>\n",
       "      <td>NARCOTICS</td>\n",
       "      <td>CA</td>\n",
       "    </tr>\n",
       "    <tr>\n",
       "      <th>39</th>\n",
       "      <td>2</td>\n",
       "      <td>13</td>\n",
       "      <td>1495</td>\n",
       "      <td>7</td>\n",
       "      <td>2900 OTIS ST</td>\n",
       "      <td>{'type': 'Point', 'coordinates': [-122.270198,...</td>\n",
       "      <td>2900 OTIS ST</td>\n",
       "      <td>Berkeley</td>\n",
       "      <td>CA</td>\n",
       "      <td>17091854</td>\n",
       "      <td>Berkeley</td>\n",
       "      <td>6</td>\n",
       "      <td>VANDALISM</td>\n",
       "      <td>2017-09-16T00:00:00.000</td>\n",
       "      <td>09:00</td>\n",
       "      <td>2017-11-13T03:30:20.000</td>\n",
       "      <td>VANDALISM</td>\n",
       "      <td>CA</td>\n",
       "    </tr>\n",
       "    <tr>\n",
       "      <th>549</th>\n",
       "      <td>NaN</td>\n",
       "      <td>NaN</td>\n",
       "      <td>NaN</td>\n",
       "      <td>NaN</td>\n",
       "      <td>800 BOLIVAR DR</td>\n",
       "      <td>NaN</td>\n",
       "      <td>800 BOLIVAR DR</td>\n",
       "      <td>Berkeley</td>\n",
       "      <td>CA</td>\n",
       "      <td>17040770</td>\n",
       "      <td>Berkeley</td>\n",
       "      <td>4</td>\n",
       "      <td>FRAUD</td>\n",
       "      <td>2017-07-13T00:00:00.000</td>\n",
       "      <td>23:50</td>\n",
       "      <td>2017-11-13T03:30:14.000</td>\n",
       "      <td>IDENTITY THEFT</td>\n",
       "      <td>CA</td>\n",
       "    </tr>\n",
       "    <tr>\n",
       "      <th>669</th>\n",
       "      <td>8</td>\n",
       "      <td>6</td>\n",
       "      <td>1495</td>\n",
       "      <td>5</td>\n",
       "      <td>1800 MCGEE AVE</td>\n",
       "      <td>{'type': 'Point', 'coordinates': [-122.277834,...</td>\n",
       "      <td>1800 MCGEE AVE</td>\n",
       "      <td>Berkeley</td>\n",
       "      <td>CA</td>\n",
       "      <td>17044514</td>\n",
       "      <td>Berkeley</td>\n",
       "      <td>1</td>\n",
       "      <td>BURGLARY - RESIDENTIAL</td>\n",
       "      <td>2017-07-31T00:00:00.000</td>\n",
       "      <td>13:15</td>\n",
       "      <td>2017-11-13T03:30:15.000</td>\n",
       "      <td>BURGLARY RESIDENTIAL</td>\n",
       "      <td>CA</td>\n",
       "    </tr>\n",
       "    <tr>\n",
       "      <th>107</th>\n",
       "      <td>14</td>\n",
       "      <td>32</td>\n",
       "      <td>1496</td>\n",
       "      <td>1</td>\n",
       "      <td>2100 CHANNING WAY</td>\n",
       "      <td>{'type': 'Point', 'coordinates': [-122.267244,...</td>\n",
       "      <td>2100 CHANNING WAY</td>\n",
       "      <td>Berkeley</td>\n",
       "      <td>CA</td>\n",
       "      <td>17059824</td>\n",
       "      <td>Berkeley</td>\n",
       "      <td>2</td>\n",
       "      <td>MOTOR VEHICLE THEFT</td>\n",
       "      <td>2017-09-19T00:00:00.000</td>\n",
       "      <td>12:00</td>\n",
       "      <td>2017-11-13T03:30:20.000</td>\n",
       "      <td>VEHICLE STOLEN</td>\n",
       "      <td>CA</td>\n",
       "    </tr>\n",
       "    <tr>\n",
       "      <th>529</th>\n",
       "      <td>2</td>\n",
       "      <td>13</td>\n",
       "      <td>1495</td>\n",
       "      <td>7</td>\n",
       "      <td>ADELINE STREET &amp; OREGON ST</td>\n",
       "      <td>{'type': 'Point', 'coordinates': [-122.268263,...</td>\n",
       "      <td>ADELINE STREET &amp; OREGON ST</td>\n",
       "      <td>Berkeley</td>\n",
       "      <td>CA</td>\n",
       "      <td>17066599</td>\n",
       "      <td>Berkeley</td>\n",
       "      <td>3</td>\n",
       "      <td>LARCENY</td>\n",
       "      <td>2017-11-01T00:00:00.000</td>\n",
       "      <td>23:00</td>\n",
       "      <td>2017-11-13T03:30:13.000</td>\n",
       "      <td>THEFT MISD. (UNDER $950)</td>\n",
       "      <td>CA</td>\n",
       "    </tr>\n",
       "    <tr>\n",
       "      <th>523</th>\n",
       "      <td>12</td>\n",
       "      <td>25</td>\n",
       "      <td>1497</td>\n",
       "      <td>6</td>\n",
       "      <td>3000 TELEGRAPH AVE</td>\n",
       "      <td>{'type': 'Point', 'coordinates': [-122.259841,...</td>\n",
       "      <td>3000 TELEGRAPH AVE</td>\n",
       "      <td>Berkeley</td>\n",
       "      <td>CA</td>\n",
       "      <td>17061282</td>\n",
       "      <td>Berkeley</td>\n",
       "      <td>2</td>\n",
       "      <td>BURGLARY - COMMERCIAL</td>\n",
       "      <td>2017-10-10T00:00:00.000</td>\n",
       "      <td>04:49</td>\n",
       "      <td>2017-11-13T03:30:13.000</td>\n",
       "      <td>BURGLARY COMMERCIAL</td>\n",
       "      <td>CA</td>\n",
       "    </tr>\n",
       "  </tbody>\n",
       "</table>\n",
       "</div>"
      ],
      "text/plain": [
       "    :@computed_region_3ini_iehf :@computed_region_5bih_7r3y  \\\n",
       "976                          13                          19   \n",
       "392                           6                          11   \n",
       "639                           5                          11   \n",
       "278                         NaN                         NaN   \n",
       "39                            2                          13   \n",
       "549                         NaN                         NaN   \n",
       "669                           8                           6   \n",
       "107                          14                          32   \n",
       "529                           2                          13   \n",
       "523                          12                          25   \n",
       "\n",
       "    :@computed_region_5s6d_2f32 :@computed_region_x3q3_gi3e  \\\n",
       "976                        1496                           6   \n",
       "392                        1502                           5   \n",
       "639                        1502                           8   \n",
       "278                         NaN                         NaN   \n",
       "39                         1495                           7   \n",
       "549                         NaN                         NaN   \n",
       "669                        1495                           5   \n",
       "107                        1496                           1   \n",
       "529                        1495                           7   \n",
       "523                        1497                           6   \n",
       "\n",
       "                        blkaddr  \\\n",
       "976  COLLEGE AVENUE & PARKER ST   \n",
       "392             200 MARINA BLVD   \n",
       "639            800 BANCROFT WAY   \n",
       "278          2488 MARKET AVENUE   \n",
       "39                 2900 OTIS ST   \n",
       "549              800 BOLIVAR DR   \n",
       "669              1800 MCGEE AVE   \n",
       "107           2100 CHANNING WAY   \n",
       "529  ADELINE STREET & OREGON ST   \n",
       "523          3000 TELEGRAPH AVE   \n",
       "\n",
       "                                        block_location  \\\n",
       "976  {'type': 'Point', 'coordinates': [-122.253693,...   \n",
       "392  {'type': 'Point', 'coordinates': [-122.313656,...   \n",
       "639  {'type': 'Point', 'coordinates': [-122.296893,...   \n",
       "278                                                NaN   \n",
       "39   {'type': 'Point', 'coordinates': [-122.270198,...   \n",
       "549                                                NaN   \n",
       "669  {'type': 'Point', 'coordinates': [-122.277834,...   \n",
       "107  {'type': 'Point', 'coordinates': [-122.267244,...   \n",
       "529  {'type': 'Point', 'coordinates': [-122.268263,...   \n",
       "523  {'type': 'Point', 'coordinates': [-122.259841,...   \n",
       "\n",
       "         block_location_address block_location_city block_location_state  \\\n",
       "976  COLLEGE AVENUE & PARKER ST            Berkeley                   CA   \n",
       "392             200 MARINA BLVD            Berkeley                   CA   \n",
       "639            800 BANCROFT WAY            Berkeley                   CA   \n",
       "278          2488 MARKET AVENUE            Berkeley                   CA   \n",
       "39                 2900 OTIS ST            Berkeley                   CA   \n",
       "549              800 BOLIVAR DR            Berkeley                   CA   \n",
       "669              1800 MCGEE AVE            Berkeley                   CA   \n",
       "107           2100 CHANNING WAY            Berkeley                   CA   \n",
       "529  ADELINE STREET & OREGON ST            Berkeley                   CA   \n",
       "523          3000 TELEGRAPH AVE            Berkeley                   CA   \n",
       "\n",
       "       caseno      city cvdow                cvlegend  \\\n",
       "976  17062574  Berkeley     0                 LARCENY   \n",
       "392  17053284  Berkeley     2      BURGLARY - VEHICLE   \n",
       "639  17040961  Berkeley     5                 ASSAULT   \n",
       "278  17031217  Berkeley     4          DRUG VIOLATION   \n",
       "39   17091854  Berkeley     6               VANDALISM   \n",
       "549  17040770  Berkeley     4                   FRAUD   \n",
       "669  17044514  Berkeley     1  BURGLARY - RESIDENTIAL   \n",
       "107  17059824  Berkeley     2     MOTOR VEHICLE THEFT   \n",
       "529  17066599  Berkeley     3                 LARCENY   \n",
       "523  17061282  Berkeley     2   BURGLARY - COMMERCIAL   \n",
       "\n",
       "                     eventdt eventtm                 indbdate  \\\n",
       "976  2017-10-15T00:00:00.000   21:00  2017-11-13T03:30:13.000   \n",
       "392  2017-09-05T00:00:00.000   10:50  2017-11-13T03:30:19.000   \n",
       "639  2017-07-14T00:00:00.000   19:49  2017-11-13T03:30:14.000   \n",
       "278  2017-06-01T00:00:00.000   09:43  2017-11-13T03:30:14.000   \n",
       "39   2017-09-16T00:00:00.000   09:00  2017-11-13T03:30:20.000   \n",
       "549  2017-07-13T00:00:00.000   23:50  2017-11-13T03:30:14.000   \n",
       "669  2017-07-31T00:00:00.000   13:15  2017-11-13T03:30:15.000   \n",
       "107  2017-09-19T00:00:00.000   12:00  2017-11-13T03:30:20.000   \n",
       "529  2017-11-01T00:00:00.000   23:00  2017-11-13T03:30:13.000   \n",
       "523  2017-10-10T00:00:00.000   04:49  2017-11-13T03:30:13.000   \n",
       "\n",
       "                      offense state  \n",
       "976  THEFT MISD. (UNDER $950)    CA  \n",
       "392             BURGLARY AUTO    CA  \n",
       "639      ASSAULT/BATTERY FEL.    CA  \n",
       "278                 NARCOTICS    CA  \n",
       "39                  VANDALISM    CA  \n",
       "549            IDENTITY THEFT    CA  \n",
       "669      BURGLARY RESIDENTIAL    CA  \n",
       "107            VEHICLE STOLEN    CA  \n",
       "529  THEFT MISD. (UNDER $950)    CA  \n",
       "523       BURGLARY COMMERCIAL    CA  "
      ]
     },
     "execution_count": 3,
     "metadata": {},
     "output_type": "execute_result"
    }
   ],
   "source": [
    "client = Socrata(\"data.cityofberkeley.info\", None)\n",
    "results = client.get(\"s24d-wsnp\")\n",
    "\n",
    "df = pd.DataFrame.from_records(results)\n",
    "df.sample(10)"
   ]
  },
  {
   "cell_type": "markdown",
   "metadata": {},
   "source": [
    "It's not the cleanest looking df, and we need a df that only has `['latitude', 'longitude']` as columns for the heatmap in `gmaps` to work.  "
   ]
  },
  {
   "cell_type": "markdown",
   "metadata": {},
   "source": [
    "### Parsing\n",
    "---\n",
    "Here we can see that the `cvlegend` column contains a brief description of the crime.  \n",
    "Upon futher inspection, we would find that each crime that could happen to our parked car conveniently contains the string `\"VEHICLE\"`.  "
   ]
  },
  {
   "cell_type": "code",
   "execution_count": 4,
   "metadata": {},
   "outputs": [
    {
     "data": {
      "text/html": [
       "<div>\n",
       "<style scoped>\n",
       "    .dataframe tbody tr th:only-of-type {\n",
       "        vertical-align: middle;\n",
       "    }\n",
       "\n",
       "    .dataframe tbody tr th {\n",
       "        vertical-align: top;\n",
       "    }\n",
       "\n",
       "    .dataframe thead th {\n",
       "        text-align: right;\n",
       "    }\n",
       "</style>\n",
       "<table border=\"1\" class=\"dataframe\">\n",
       "  <thead>\n",
       "    <tr style=\"text-align: right;\">\n",
       "      <th></th>\n",
       "      <th>block_location</th>\n",
       "      <th>cvlegend</th>\n",
       "    </tr>\n",
       "  </thead>\n",
       "  <tbody>\n",
       "    <tr>\n",
       "      <th>10</th>\n",
       "      <td>{'type': 'Point', 'coordinates': [-122.271395,...</td>\n",
       "      <td>MOTOR VEHICLE THEFT</td>\n",
       "    </tr>\n",
       "    <tr>\n",
       "      <th>15</th>\n",
       "      <td>{'type': 'Point', 'coordinates': [-122.266137,...</td>\n",
       "      <td>MOTOR VEHICLE THEFT</td>\n",
       "    </tr>\n",
       "    <tr>\n",
       "      <th>18</th>\n",
       "      <td>NaN</td>\n",
       "      <td>BURGLARY - VEHICLE</td>\n",
       "    </tr>\n",
       "    <tr>\n",
       "      <th>21</th>\n",
       "      <td>{'type': 'Point', 'coordinates': [-122.270493,...</td>\n",
       "      <td>MOTOR VEHICLE THEFT</td>\n",
       "    </tr>\n",
       "    <tr>\n",
       "      <th>22</th>\n",
       "      <td>{'type': 'Point', 'coordinates': [-122.289035,...</td>\n",
       "      <td>BURGLARY - VEHICLE</td>\n",
       "    </tr>\n",
       "  </tbody>\n",
       "</table>\n",
       "</div>"
      ],
      "text/plain": [
       "                                       block_location             cvlegend\n",
       "10  {'type': 'Point', 'coordinates': [-122.271395,...  MOTOR VEHICLE THEFT\n",
       "15  {'type': 'Point', 'coordinates': [-122.266137,...  MOTOR VEHICLE THEFT\n",
       "18                                                NaN   BURGLARY - VEHICLE\n",
       "21  {'type': 'Point', 'coordinates': [-122.270493,...  MOTOR VEHICLE THEFT\n",
       "22  {'type': 'Point', 'coordinates': [-122.289035,...   BURGLARY - VEHICLE"
      ]
     },
     "execution_count": 4,
     "metadata": {},
     "output_type": "execute_result"
    }
   ],
   "source": [
    "df[['block_location', 'cvlegend']][df['cvlegend'].str.contains(\"VEHICLE\")].head()"
   ]
  },
  {
   "cell_type": "markdown",
   "metadata": {},
   "source": [
    "Omitting the `NaN` rows."
   ]
  },
  {
   "cell_type": "code",
   "execution_count": 5,
   "metadata": {
    "scrolled": true
   },
   "outputs": [
    {
     "data": {
      "text/html": [
       "<div>\n",
       "<style scoped>\n",
       "    .dataframe tbody tr th:only-of-type {\n",
       "        vertical-align: middle;\n",
       "    }\n",
       "\n",
       "    .dataframe tbody tr th {\n",
       "        vertical-align: top;\n",
       "    }\n",
       "\n",
       "    .dataframe thead th {\n",
       "        text-align: right;\n",
       "    }\n",
       "</style>\n",
       "<table border=\"1\" class=\"dataframe\">\n",
       "  <thead>\n",
       "    <tr style=\"text-align: right;\">\n",
       "      <th></th>\n",
       "      <th>block_location</th>\n",
       "    </tr>\n",
       "  </thead>\n",
       "  <tbody>\n",
       "    <tr>\n",
       "      <th>10</th>\n",
       "      <td>{'type': 'Point', 'coordinates': [-122.271395,...</td>\n",
       "    </tr>\n",
       "    <tr>\n",
       "      <th>15</th>\n",
       "      <td>{'type': 'Point', 'coordinates': [-122.266137,...</td>\n",
       "    </tr>\n",
       "    <tr>\n",
       "      <th>21</th>\n",
       "      <td>{'type': 'Point', 'coordinates': [-122.270493,...</td>\n",
       "    </tr>\n",
       "    <tr>\n",
       "      <th>22</th>\n",
       "      <td>{'type': 'Point', 'coordinates': [-122.289035,...</td>\n",
       "    </tr>\n",
       "    <tr>\n",
       "      <th>23</th>\n",
       "      <td>{'type': 'Point', 'coordinates': [-122.296893,...</td>\n",
       "    </tr>\n",
       "  </tbody>\n",
       "</table>\n",
       "</div>"
      ],
      "text/plain": [
       "                                       block_location\n",
       "10  {'type': 'Point', 'coordinates': [-122.271395,...\n",
       "15  {'type': 'Point', 'coordinates': [-122.266137,...\n",
       "21  {'type': 'Point', 'coordinates': [-122.270493,...\n",
       "22  {'type': 'Point', 'coordinates': [-122.289035,...\n",
       "23  {'type': 'Point', 'coordinates': [-122.296893,..."
      ]
     },
     "execution_count": 5,
     "metadata": {},
     "output_type": "execute_result"
    }
   ],
   "source": [
    "df = df[['block_location']][df['cvlegend'].str.contains(\"VEHICLE\")].dropna()\n",
    "df.head()"
   ]
  },
  {
   "cell_type": "markdown",
   "metadata": {},
   "source": [
    "Almost there. Now we just need to convert the `dict` inside of every row into two seperate columns.  \n",
    "The coordinates are nested 2 levels deep so we need to `.apply(pd.Series)` twice.  "
   ]
  },
  {
   "cell_type": "code",
   "execution_count": 6,
   "metadata": {},
   "outputs": [
    {
     "data": {
      "text/html": [
       "<div>\n",
       "<style scoped>\n",
       "    .dataframe tbody tr th:only-of-type {\n",
       "        vertical-align: middle;\n",
       "    }\n",
       "\n",
       "    .dataframe tbody tr th {\n",
       "        vertical-align: top;\n",
       "    }\n",
       "\n",
       "    .dataframe thead th {\n",
       "        text-align: right;\n",
       "    }\n",
       "</style>\n",
       "<table border=\"1\" class=\"dataframe\">\n",
       "  <thead>\n",
       "    <tr style=\"text-align: right;\">\n",
       "      <th></th>\n",
       "      <th>0</th>\n",
       "      <th>1</th>\n",
       "    </tr>\n",
       "  </thead>\n",
       "  <tbody>\n",
       "    <tr>\n",
       "      <th>10</th>\n",
       "      <td>-122.271395</td>\n",
       "      <td>37.877951</td>\n",
       "    </tr>\n",
       "    <tr>\n",
       "      <th>15</th>\n",
       "      <td>-122.266137</td>\n",
       "      <td>37.882480</td>\n",
       "    </tr>\n",
       "    <tr>\n",
       "      <th>21</th>\n",
       "      <td>-122.270493</td>\n",
       "      <td>37.895099</td>\n",
       "    </tr>\n",
       "    <tr>\n",
       "      <th>22</th>\n",
       "      <td>-122.289035</td>\n",
       "      <td>37.859220</td>\n",
       "    </tr>\n",
       "    <tr>\n",
       "      <th>23</th>\n",
       "      <td>-122.296893</td>\n",
       "      <td>37.879996</td>\n",
       "    </tr>\n",
       "  </tbody>\n",
       "</table>\n",
       "</div>"
      ],
      "text/plain": [
       "             0          1\n",
       "10 -122.271395  37.877951\n",
       "15 -122.266137  37.882480\n",
       "21 -122.270493  37.895099\n",
       "22 -122.289035  37.859220\n",
       "23 -122.296893  37.879996"
      ]
     },
     "execution_count": 6,
     "metadata": {},
     "output_type": "execute_result"
    }
   ],
   "source": [
    "df = df['block_location'].apply(pd.Series)['coordinates'].apply(pd.Series)\n",
    "df.head()"
   ]
  },
  {
   "cell_type": "markdown",
   "metadata": {},
   "source": [
    "`gmaps` isn't gonna be happy with long lat."
   ]
  },
  {
   "cell_type": "code",
   "execution_count": 7,
   "metadata": {
    "collapsed": true
   },
   "outputs": [],
   "source": [
    "df = df[[1, 0]] # long lat to lat long"
   ]
  },
  {
   "cell_type": "markdown",
   "metadata": {},
   "source": [
    "Perfection."
   ]
  },
  {
   "cell_type": "markdown",
   "metadata": {},
   "source": [
    "### One last import\n",
    "---\n",
    "The `gmaps` docs for Jupyter can be found <a href=\"http://jupyter-gmaps.readthedocs.io/en/latest/tutorial.html\">here</a>.  "
   ]
  },
  {
   "cell_type": "code",
   "execution_count": 8,
   "metadata": {
    "collapsed": true
   },
   "outputs": [],
   "source": [
    "import gmaps\n",
    "\n",
    "gmaps.configure(api_key=API_KEY)"
   ]
  },
  {
   "cell_type": "markdown",
   "metadata": {},
   "source": [
    "Then we set center and zoom level of our `gmaps.figure`."
   ]
  },
  {
   "cell_type": "code",
   "execution_count": 9,
   "metadata": {
    "collapsed": true
   },
   "outputs": [],
   "source": [
    "UCB_LAT_LONG = (37.8719, -122.2585)\n",
    "fig = gmaps.figure(center=UCB_LAT_LONG, zoom_level=14)"
   ]
  },
  {
   "cell_type": "markdown",
   "metadata": {},
   "source": [
    "Then we put our parsed DataFrame into a `gmaps.heatmap_layer` and turn it on.  "
   ]
  },
  {
   "cell_type": "code",
   "execution_count": 10,
   "metadata": {
    "collapsed": true
   },
   "outputs": [],
   "source": [
    "heatmap_layer = gmaps.heatmap_layer(df)\n",
    "fig.add_layer(heatmap_layer)"
   ]
  },
  {
   "cell_type": "markdown",
   "metadata": {},
   "source": [
    "Final aesthetic stuff and alas..."
   ]
  },
  {
   "cell_type": "code",
   "execution_count": 11,
   "metadata": {},
   "outputs": [
    {
     "data": {
      "application/vnd.jupyter.widget-view+json": {
       "model_id": "eda7f8922a954b9d8655a6a2c80740c6",
       "version_major": 2,
       "version_minor": 0
      },
      "text/html": [
       "<p>Failed to display Jupyter Widget of type <code>Figure</code>.</p>\n",
       "<p>\n",
       "  If you're reading this message in Jupyter Notebook or JupyterLab, it may mean\n",
       "  that the widgets JavaScript is still loading. If this message persists, it\n",
       "  likely means that the widgets JavaScript library is either not installed or\n",
       "  not enabled. See the <a href=\"https://ipywidgets.readthedocs.io/en/stable/user_install.html\">Jupyter\n",
       "  Widgets Documentation</a> for setup instructions.\n",
       "</p>\n",
       "<p>\n",
       "  If you're reading this message in another notebook frontend (for example, a static\n",
       "  rendering on GitHub or <a href=\"https://nbviewer.jupyter.org/\">NBViewer</a>),\n",
       "  it may mean that your frontend doesn't currently support widgets.\n",
       "</p>\n"
      ],
      "text/plain": [
       "Figure()"
      ]
     },
     "metadata": {},
     "output_type": "display_data"
    }
   ],
   "source": [
    "heatmap_layer.gradient = [\n",
    "    (255,255,0,0),\n",
    "    'red',\n",
    "    'red'\n",
    "]\n",
    "heatmap_layer.point_radius = 30\n",
    "fig"
   ]
  },
  {
   "cell_type": "markdown",
   "metadata": {},
   "source": [
    "Good luck!"
   ]
  },
  {
   "cell_type": "code",
   "execution_count": null,
   "metadata": {
    "collapsed": true
   },
   "outputs": [],
   "source": []
  }
 ],
 "metadata": {
  "kernelspec": {
   "display_name": "Python 3",
   "language": "python",
   "name": "python3"
  },
  "language_info": {
   "codemirror_mode": {
    "name": "ipython",
    "version": 3
   },
   "file_extension": ".py",
   "mimetype": "text/x-python",
   "name": "python",
   "nbconvert_exporter": "python",
   "pygments_lexer": "ipython3",
   "version": "3.6.3"
  }
 },
 "nbformat": 4,
 "nbformat_minor": 2
}
