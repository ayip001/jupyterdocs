{
 "cells": [
  {
   "cell_type": "markdown",
   "metadata": {},
   "source": [
    "# Berkeley Vehicle-related Crime Heatmap\n",
    "By <a href=\"https://ayip.io\">Angus Yip</a>  \n"
   ]
  },
  {
   "cell_type": "markdown",
   "metadata": {},
   "source": [
    "### TL;DR avoid parking in red\n",
    "---\n",
    "<img src=\"./images/ucb_parking_heatmap.png\" />\n",
    "GitHub can't display a `gmaps` figure yet, so here's a screenshot of the end result.  \n",
    "\n",
    "### Introduction\n",
    "---\n",
    "The purpose of this notebook is to know where the safer areas for parking are in Berkeley.  \n",
    "The Berkeley crime dataset found/ <a href=\"https://data.cityofberkeley.info/Public-Safety/Berkeley-PD-Calls-for-Service/k2nh-s5h5\">here</a> contains a list of calls for service to the Berkeley Police Department.  \n",
    "I extracted calls related to vehicles using tools from the `pandas` library, then put the resulting DataFrame through the `gcloud` heatmap feature.  \n",
    "The resulting heatmap would indicate where it's safer to park in Berkeley in general.  \n",
    "I'm in no way or form responsible if you followed this guide for parking and still got broken into; data is powerful but it ain't Jesus.  "
   ]
  },
  {
   "cell_type": "markdown",
   "metadata": {},
   "source": [
    "### Imports\n",
    "---"
   ]
  },
  {
   "cell_type": "code",
   "execution_count": 1,
   "metadata": {
    "collapsed": true
   },
   "outputs": [],
   "source": [
    "import pandas as pd\n",
    "from sodapy import Socrata"
   ]
  },
  {
   "cell_type": "markdown",
   "metadata": {},
   "source": [
    "Standard stuff  \n",
    "`sodapy` is the Python bindings for the Socrata Open Data API  \n",
    "The docs could be found <a href=\"https://dev.socrata.com/foundry/data.cityofberkeley.info/s24d-wsnp\">here</a>.  "
   ]
  },
  {
   "cell_type": "markdown",
   "metadata": {},
   "source": [
    "### Getting the dataset into a pd.DataFrame\n",
    "---\n",
    "The following snippet is just a minor modification from a code example in the docs.  "
   ]
  },
  {
   "cell_type": "code",
   "execution_count": 2,
   "metadata": {},
   "outputs": [
    {
     "name": "stderr",
     "output_type": "stream",
     "text": [
      "WARNING:root:Requests made without an app_token will be subject to strict throttling limits.\n"
     ]
    },
    {
     "data": {
      "text/html": [
       "<div>\n",
       "<style scoped>\n",
       "    .dataframe tbody tr th:only-of-type {\n",
       "        vertical-align: middle;\n",
       "    }\n",
       "\n",
       "    .dataframe tbody tr th {\n",
       "        vertical-align: top;\n",
       "    }\n",
       "\n",
       "    .dataframe thead th {\n",
       "        text-align: right;\n",
       "    }\n",
       "</style>\n",
       "<table border=\"1\" class=\"dataframe\">\n",
       "  <thead>\n",
       "    <tr style=\"text-align: right;\">\n",
       "      <th></th>\n",
       "      <th>blkaddr</th>\n",
       "      <th>block_location</th>\n",
       "      <th>block_location_address</th>\n",
       "      <th>block_location_city</th>\n",
       "      <th>block_location_state</th>\n",
       "      <th>caseno</th>\n",
       "      <th>city</th>\n",
       "      <th>cvdow</th>\n",
       "      <th>cvlegend</th>\n",
       "      <th>eventdt</th>\n",
       "      <th>eventtm</th>\n",
       "      <th>indbdate</th>\n",
       "      <th>offense</th>\n",
       "      <th>state</th>\n",
       "    </tr>\n",
       "  </thead>\n",
       "  <tbody>\n",
       "    <tr>\n",
       "      <th>5634</th>\n",
       "      <td>2300 TELEGRAPH AVE</td>\n",
       "      <td>{'type': 'Point', 'coordinates': [-122.259189,...</td>\n",
       "      <td>2300 TELEGRAPH AVE</td>\n",
       "      <td>Berkeley</td>\n",
       "      <td>CA</td>\n",
       "      <td>17041740</td>\n",
       "      <td>Berkeley</td>\n",
       "      <td>2</td>\n",
       "      <td>LARCENY</td>\n",
       "      <td>2017-05-30T00:00:00.000</td>\n",
       "      <td>16:18</td>\n",
       "      <td>2017-11-14T03:30:14.000</td>\n",
       "      <td>THEFT MISD. (UNDER $950)</td>\n",
       "      <td>CA</td>\n",
       "    </tr>\n",
       "    <tr>\n",
       "      <th>5635</th>\n",
       "      <td>1400 PARKER ST</td>\n",
       "      <td>{'type': 'Point', 'coordinates': [-122.282847,...</td>\n",
       "      <td>1400 PARKER ST</td>\n",
       "      <td>Berkeley</td>\n",
       "      <td>CA</td>\n",
       "      <td>17090975</td>\n",
       "      <td>Berkeley</td>\n",
       "      <td>6</td>\n",
       "      <td>LARCENY</td>\n",
       "      <td>2017-05-20T00:00:00.000</td>\n",
       "      <td>00:05</td>\n",
       "      <td>2017-11-14T03:30:12.000</td>\n",
       "      <td>THEFT FELONY (OVER $950)</td>\n",
       "      <td>CA</td>\n",
       "    </tr>\n",
       "    <tr>\n",
       "      <th>5636</th>\n",
       "      <td>2500 TELEGRAPH AVE</td>\n",
       "      <td>{'type': 'Point', 'coordinates': [-122.258767,...</td>\n",
       "      <td>2500 TELEGRAPH AVE</td>\n",
       "      <td>Berkeley</td>\n",
       "      <td>CA</td>\n",
       "      <td>17039900</td>\n",
       "      <td>Berkeley</td>\n",
       "      <td>1</td>\n",
       "      <td>LARCENY</td>\n",
       "      <td>2017-07-10T00:00:00.000</td>\n",
       "      <td>07:25</td>\n",
       "      <td>2017-11-14T03:30:13.000</td>\n",
       "      <td>THEFT MISD. (UNDER $950)</td>\n",
       "      <td>CA</td>\n",
       "    </tr>\n",
       "    <tr>\n",
       "      <th>5637</th>\n",
       "      <td>TELEGRAPH AVENUE &amp; CARLETON ST</td>\n",
       "      <td>{'type': 'Point', 'coordinates': [-122.258784,...</td>\n",
       "      <td>TELEGRAPH AVENUE &amp; CARLETON ST</td>\n",
       "      <td>Berkeley</td>\n",
       "      <td>CA</td>\n",
       "      <td>17066551</td>\n",
       "      <td>Berkeley</td>\n",
       "      <td>3</td>\n",
       "      <td>LARCENY</td>\n",
       "      <td>2017-11-01T00:00:00.000</td>\n",
       "      <td>17:49</td>\n",
       "      <td>2017-11-14T03:30:19.000</td>\n",
       "      <td>THEFT MISD. (UNDER $950)</td>\n",
       "      <td>CA</td>\n",
       "    </tr>\n",
       "    <tr>\n",
       "      <th>5638</th>\n",
       "      <td>KITTREDGE STREET &amp; SHATTUCK AVE</td>\n",
       "      <td>{'type': 'Point', 'coordinates': [-122.26795, ...</td>\n",
       "      <td>KITTREDGE STREET &amp; SHATTUCK AVE</td>\n",
       "      <td>Berkeley</td>\n",
       "      <td>CA</td>\n",
       "      <td>17051954</td>\n",
       "      <td>Berkeley</td>\n",
       "      <td>4</td>\n",
       "      <td>BURGLARY - VEHICLE</td>\n",
       "      <td>2017-08-31T00:00:00.000</td>\n",
       "      <td>21:46</td>\n",
       "      <td>2017-11-14T03:30:17.000</td>\n",
       "      <td>BURGLARY AUTO</td>\n",
       "      <td>CA</td>\n",
       "    </tr>\n",
       "    <tr>\n",
       "      <th>5639</th>\n",
       "      <td>2300 FOURTH ST</td>\n",
       "      <td>{'type': 'Point', 'coordinates': [-122.298368,...</td>\n",
       "      <td>2300 FOURTH ST</td>\n",
       "      <td>Berkeley</td>\n",
       "      <td>CA</td>\n",
       "      <td>17091479</td>\n",
       "      <td>Berkeley</td>\n",
       "      <td>0</td>\n",
       "      <td>BURGLARY - VEHICLE</td>\n",
       "      <td>2017-07-30T00:00:00.000</td>\n",
       "      <td>18:00</td>\n",
       "      <td>2017-11-14T03:30:14.000</td>\n",
       "      <td>BURGLARY AUTO</td>\n",
       "      <td>CA</td>\n",
       "    </tr>\n",
       "    <tr>\n",
       "      <th>5640</th>\n",
       "      <td>2400 DURANT AVE</td>\n",
       "      <td>{'type': 'Point', 'coordinates': [-122.26127, ...</td>\n",
       "      <td>2400 DURANT AVE</td>\n",
       "      <td>Berkeley</td>\n",
       "      <td>CA</td>\n",
       "      <td>17028183</td>\n",
       "      <td>Berkeley</td>\n",
       "      <td>4</td>\n",
       "      <td>BURGLARY - VEHICLE</td>\n",
       "      <td>2017-05-18T00:00:00.000</td>\n",
       "      <td>15:00</td>\n",
       "      <td>2017-11-14T03:30:12.000</td>\n",
       "      <td>BURGLARY AUTO</td>\n",
       "      <td>CA</td>\n",
       "    </tr>\n",
       "    <tr>\n",
       "      <th>5641</th>\n",
       "      <td>2000 ALLSTON WAY</td>\n",
       "      <td>{'type': 'Point', 'coordinates': [-122.270137,...</td>\n",
       "      <td>2000 ALLSTON WAY</td>\n",
       "      <td>Berkeley</td>\n",
       "      <td>CA</td>\n",
       "      <td>17056730</td>\n",
       "      <td>Berkeley</td>\n",
       "      <td>3</td>\n",
       "      <td>VANDALISM</td>\n",
       "      <td>2017-09-20T00:00:00.000</td>\n",
       "      <td>08:00</td>\n",
       "      <td>2017-11-14T03:30:18.000</td>\n",
       "      <td>VANDALISM</td>\n",
       "      <td>CA</td>\n",
       "    </tr>\n",
       "    <tr>\n",
       "      <th>5642</th>\n",
       "      <td>400 SPRUCE ST</td>\n",
       "      <td>{'type': 'Point', 'coordinates': [-122.270263,...</td>\n",
       "      <td>400 SPRUCE ST</td>\n",
       "      <td>Berkeley</td>\n",
       "      <td>CA</td>\n",
       "      <td>17092098</td>\n",
       "      <td>Berkeley</td>\n",
       "      <td>3</td>\n",
       "      <td>VANDALISM</td>\n",
       "      <td>2017-10-18T00:00:00.000</td>\n",
       "      <td>17:30</td>\n",
       "      <td>2017-11-14T03:30:19.000</td>\n",
       "      <td>VANDALISM</td>\n",
       "      <td>CA</td>\n",
       "    </tr>\n",
       "    <tr>\n",
       "      <th>5643</th>\n",
       "      <td>2000 PARKER ST</td>\n",
       "      <td>{'type': 'Point', 'coordinates': [-122.269644,...</td>\n",
       "      <td>2000 PARKER ST</td>\n",
       "      <td>Berkeley</td>\n",
       "      <td>CA</td>\n",
       "      <td>17057001</td>\n",
       "      <td>Berkeley</td>\n",
       "      <td>3</td>\n",
       "      <td>BURGLARY - VEHICLE</td>\n",
       "      <td>2017-09-20T00:00:00.000</td>\n",
       "      <td>21:00</td>\n",
       "      <td>2017-11-14T03:30:18.000</td>\n",
       "      <td>BURGLARY AUTO</td>\n",
       "      <td>CA</td>\n",
       "    </tr>\n",
       "  </tbody>\n",
       "</table>\n",
       "</div>"
      ],
      "text/plain": [
       "                              blkaddr  \\\n",
       "5634               2300 TELEGRAPH AVE   \n",
       "5635                   1400 PARKER ST   \n",
       "5636               2500 TELEGRAPH AVE   \n",
       "5637   TELEGRAPH AVENUE & CARLETON ST   \n",
       "5638  KITTREDGE STREET & SHATTUCK AVE   \n",
       "5639                   2300 FOURTH ST   \n",
       "5640                  2400 DURANT AVE   \n",
       "5641                 2000 ALLSTON WAY   \n",
       "5642                    400 SPRUCE ST   \n",
       "5643                   2000 PARKER ST   \n",
       "\n",
       "                                         block_location  \\\n",
       "5634  {'type': 'Point', 'coordinates': [-122.259189,...   \n",
       "5635  {'type': 'Point', 'coordinates': [-122.282847,...   \n",
       "5636  {'type': 'Point', 'coordinates': [-122.258767,...   \n",
       "5637  {'type': 'Point', 'coordinates': [-122.258784,...   \n",
       "5638  {'type': 'Point', 'coordinates': [-122.26795, ...   \n",
       "5639  {'type': 'Point', 'coordinates': [-122.298368,...   \n",
       "5640  {'type': 'Point', 'coordinates': [-122.26127, ...   \n",
       "5641  {'type': 'Point', 'coordinates': [-122.270137,...   \n",
       "5642  {'type': 'Point', 'coordinates': [-122.270263,...   \n",
       "5643  {'type': 'Point', 'coordinates': [-122.269644,...   \n",
       "\n",
       "               block_location_address block_location_city  \\\n",
       "5634               2300 TELEGRAPH AVE            Berkeley   \n",
       "5635                   1400 PARKER ST            Berkeley   \n",
       "5636               2500 TELEGRAPH AVE            Berkeley   \n",
       "5637   TELEGRAPH AVENUE & CARLETON ST            Berkeley   \n",
       "5638  KITTREDGE STREET & SHATTUCK AVE            Berkeley   \n",
       "5639                   2300 FOURTH ST            Berkeley   \n",
       "5640                  2400 DURANT AVE            Berkeley   \n",
       "5641                 2000 ALLSTON WAY            Berkeley   \n",
       "5642                    400 SPRUCE ST            Berkeley   \n",
       "5643                   2000 PARKER ST            Berkeley   \n",
       "\n",
       "     block_location_state    caseno      city cvdow            cvlegend  \\\n",
       "5634                   CA  17041740  Berkeley     2             LARCENY   \n",
       "5635                   CA  17090975  Berkeley     6             LARCENY   \n",
       "5636                   CA  17039900  Berkeley     1             LARCENY   \n",
       "5637                   CA  17066551  Berkeley     3             LARCENY   \n",
       "5638                   CA  17051954  Berkeley     4  BURGLARY - VEHICLE   \n",
       "5639                   CA  17091479  Berkeley     0  BURGLARY - VEHICLE   \n",
       "5640                   CA  17028183  Berkeley     4  BURGLARY - VEHICLE   \n",
       "5641                   CA  17056730  Berkeley     3           VANDALISM   \n",
       "5642                   CA  17092098  Berkeley     3           VANDALISM   \n",
       "5643                   CA  17057001  Berkeley     3  BURGLARY - VEHICLE   \n",
       "\n",
       "                      eventdt eventtm                 indbdate  \\\n",
       "5634  2017-05-30T00:00:00.000   16:18  2017-11-14T03:30:14.000   \n",
       "5635  2017-05-20T00:00:00.000   00:05  2017-11-14T03:30:12.000   \n",
       "5636  2017-07-10T00:00:00.000   07:25  2017-11-14T03:30:13.000   \n",
       "5637  2017-11-01T00:00:00.000   17:49  2017-11-14T03:30:19.000   \n",
       "5638  2017-08-31T00:00:00.000   21:46  2017-11-14T03:30:17.000   \n",
       "5639  2017-07-30T00:00:00.000   18:00  2017-11-14T03:30:14.000   \n",
       "5640  2017-05-18T00:00:00.000   15:00  2017-11-14T03:30:12.000   \n",
       "5641  2017-09-20T00:00:00.000   08:00  2017-11-14T03:30:18.000   \n",
       "5642  2017-10-18T00:00:00.000   17:30  2017-11-14T03:30:19.000   \n",
       "5643  2017-09-20T00:00:00.000   21:00  2017-11-14T03:30:18.000   \n",
       "\n",
       "                       offense state  \n",
       "5634  THEFT MISD. (UNDER $950)    CA  \n",
       "5635  THEFT FELONY (OVER $950)    CA  \n",
       "5636  THEFT MISD. (UNDER $950)    CA  \n",
       "5637  THEFT MISD. (UNDER $950)    CA  \n",
       "5638             BURGLARY AUTO    CA  \n",
       "5639             BURGLARY AUTO    CA  \n",
       "5640             BURGLARY AUTO    CA  \n",
       "5641                 VANDALISM    CA  \n",
       "5642                 VANDALISM    CA  \n",
       "5643             BURGLARY AUTO    CA  "
      ]
     },
     "execution_count": 2,
     "metadata": {},
     "output_type": "execute_result"
    }
   ],
   "source": [
    "client = Socrata(\"data.cityofberkeley.info\", None)\n",
    "results = client.get(\"s24d-wsnp\", limit=10000)\n",
    "\n",
    "df = pd.DataFrame.from_records(results)\n",
    "df.tail(10)"
   ]
  },
  {
   "cell_type": "markdown",
   "metadata": {},
   "source": [
    "It's not the cleanest looking df, and we need a df that only has `['latitude', 'longitude']` as columns for the heatmap in `gmaps` to work.  "
   ]
  },
  {
   "cell_type": "markdown",
   "metadata": {},
   "source": [
    "### Parsing\n",
    "---\n",
    "Here we can see that the `cvlegend` column contains a brief description of the crime.  \n",
    "Upon futher inspection, we would find that each crime that could happen to our parked car conveniently contains the string `\"VEHICLE\"`.  "
   ]
  },
  {
   "cell_type": "code",
   "execution_count": 3,
   "metadata": {},
   "outputs": [
    {
     "data": {
      "text/html": [
       "<div>\n",
       "<style scoped>\n",
       "    .dataframe tbody tr th:only-of-type {\n",
       "        vertical-align: middle;\n",
       "    }\n",
       "\n",
       "    .dataframe tbody tr th {\n",
       "        vertical-align: top;\n",
       "    }\n",
       "\n",
       "    .dataframe thead th {\n",
       "        text-align: right;\n",
       "    }\n",
       "</style>\n",
       "<table border=\"1\" class=\"dataframe\">\n",
       "  <thead>\n",
       "    <tr style=\"text-align: right;\">\n",
       "      <th></th>\n",
       "      <th>block_location</th>\n",
       "      <th>cvlegend</th>\n",
       "    </tr>\n",
       "  </thead>\n",
       "  <tbody>\n",
       "    <tr>\n",
       "      <th>5631</th>\n",
       "      <td>{'type': 'Point', 'coordinates': [-122.298043,...</td>\n",
       "      <td>BURGLARY - VEHICLE</td>\n",
       "    </tr>\n",
       "    <tr>\n",
       "      <th>5638</th>\n",
       "      <td>{'type': 'Point', 'coordinates': [-122.26795, ...</td>\n",
       "      <td>BURGLARY - VEHICLE</td>\n",
       "    </tr>\n",
       "    <tr>\n",
       "      <th>5639</th>\n",
       "      <td>{'type': 'Point', 'coordinates': [-122.298368,...</td>\n",
       "      <td>BURGLARY - VEHICLE</td>\n",
       "    </tr>\n",
       "    <tr>\n",
       "      <th>5640</th>\n",
       "      <td>{'type': 'Point', 'coordinates': [-122.26127, ...</td>\n",
       "      <td>BURGLARY - VEHICLE</td>\n",
       "    </tr>\n",
       "    <tr>\n",
       "      <th>5643</th>\n",
       "      <td>{'type': 'Point', 'coordinates': [-122.269644,...</td>\n",
       "      <td>BURGLARY - VEHICLE</td>\n",
       "    </tr>\n",
       "  </tbody>\n",
       "</table>\n",
       "</div>"
      ],
      "text/plain": [
       "                                         block_location            cvlegend\n",
       "5631  {'type': 'Point', 'coordinates': [-122.298043,...  BURGLARY - VEHICLE\n",
       "5638  {'type': 'Point', 'coordinates': [-122.26795, ...  BURGLARY - VEHICLE\n",
       "5639  {'type': 'Point', 'coordinates': [-122.298368,...  BURGLARY - VEHICLE\n",
       "5640  {'type': 'Point', 'coordinates': [-122.26127, ...  BURGLARY - VEHICLE\n",
       "5643  {'type': 'Point', 'coordinates': [-122.269644,...  BURGLARY - VEHICLE"
      ]
     },
     "execution_count": 3,
     "metadata": {},
     "output_type": "execute_result"
    }
   ],
   "source": [
    "df[['block_location', 'cvlegend']][df['cvlegend'].str.contains(\"VEHICLE\")].tail()"
   ]
  },
  {
   "cell_type": "markdown",
   "metadata": {},
   "source": [
    "Omitting the `NaN` rows."
   ]
  },
  {
   "cell_type": "code",
   "execution_count": 4,
   "metadata": {
    "scrolled": true
   },
   "outputs": [],
   "source": [
    "df = df[['block_location']][df['cvlegend'].str.contains(\"VEHICLE\")].dropna()"
   ]
  },
  {
   "cell_type": "markdown",
   "metadata": {},
   "source": [
    "Almost there. Now we just need to convert the `dict` inside of every row into two seperate columns.  \n",
    "The coordinates are nested 2 levels deep so we need to `.apply(pd.Series)` twice.  "
   ]
  },
  {
   "cell_type": "code",
   "execution_count": 5,
   "metadata": {},
   "outputs": [
    {
     "data": {
      "text/html": [
       "<div>\n",
       "<style scoped>\n",
       "    .dataframe tbody tr th:only-of-type {\n",
       "        vertical-align: middle;\n",
       "    }\n",
       "\n",
       "    .dataframe tbody tr th {\n",
       "        vertical-align: top;\n",
       "    }\n",
       "\n",
       "    .dataframe thead th {\n",
       "        text-align: right;\n",
       "    }\n",
       "</style>\n",
       "<table border=\"1\" class=\"dataframe\">\n",
       "  <thead>\n",
       "    <tr style=\"text-align: right;\">\n",
       "      <th></th>\n",
       "      <th>0</th>\n",
       "      <th>1</th>\n",
       "    </tr>\n",
       "  </thead>\n",
       "  <tbody>\n",
       "    <tr>\n",
       "      <th>6</th>\n",
       "      <td>-122.269974</td>\n",
       "      <td>37.881525</td>\n",
       "    </tr>\n",
       "    <tr>\n",
       "      <th>27</th>\n",
       "      <td>-122.297995</td>\n",
       "      <td>37.879708</td>\n",
       "    </tr>\n",
       "    <tr>\n",
       "      <th>38</th>\n",
       "      <td>-122.269762</td>\n",
       "      <td>37.866426</td>\n",
       "    </tr>\n",
       "    <tr>\n",
       "      <th>40</th>\n",
       "      <td>-122.251978</td>\n",
       "      <td>37.883202</td>\n",
       "    </tr>\n",
       "    <tr>\n",
       "      <th>43</th>\n",
       "      <td>-122.250875</td>\n",
       "      <td>37.888241</td>\n",
       "    </tr>\n",
       "  </tbody>\n",
       "</table>\n",
       "</div>"
      ],
      "text/plain": [
       "             0          1\n",
       "6  -122.269974  37.881525\n",
       "27 -122.297995  37.879708\n",
       "38 -122.269762  37.866426\n",
       "40 -122.251978  37.883202\n",
       "43 -122.250875  37.888241"
      ]
     },
     "execution_count": 5,
     "metadata": {},
     "output_type": "execute_result"
    }
   ],
   "source": [
    "df = df['block_location'].apply(pd.Series)['coordinates'].apply(pd.Series)\n",
    "df.head()"
   ]
  },
  {
   "cell_type": "markdown",
   "metadata": {},
   "source": [
    "`gmaps` isn't gonna be happy with long lat."
   ]
  },
  {
   "cell_type": "code",
   "execution_count": 6,
   "metadata": {
    "collapsed": true
   },
   "outputs": [],
   "source": [
    "df = df[[1, 0]] # long lat to lat long"
   ]
  },
  {
   "cell_type": "markdown",
   "metadata": {},
   "source": [
    "Perfection."
   ]
  },
  {
   "cell_type": "markdown",
   "metadata": {},
   "source": [
    "### One last import\n",
    "---\n",
    "Here are the `gmaps` <a href=\"https://github.com/pbugnion/gmaps#installing-gmaps-with-pip\">installation guide</a> and <a href=\"http://jupyter-gmaps.readthedocs.io/en/latest/tutorial.html\">docs</a>.  \n",
    "You'll need a <a href=\"https://developers.google.com/maps/documentation/javascript/\">Google Maps Web Javascript API</a> key for this to work.  "
   ]
  },
  {
   "cell_type": "code",
   "execution_count": 8,
   "metadata": {
    "collapsed": true
   },
   "outputs": [],
   "source": [
    "import gmaps\n",
    "\n",
    "gmaps.configure(api_key=API_KEY)"
   ]
  },
  {
   "cell_type": "markdown",
   "metadata": {},
   "source": [
    "Then we set center and zoom level of our `gmaps.figure`."
   ]
  },
  {
   "cell_type": "code",
   "execution_count": 9,
   "metadata": {
    "collapsed": true
   },
   "outputs": [],
   "source": [
    "UCB_LAT_LONG = (37.8719, -122.2585)\n",
    "fig = gmaps.figure(center=UCB_LAT_LONG, zoom_level=14)"
   ]
  },
  {
   "cell_type": "markdown",
   "metadata": {},
   "source": [
    "Then we put our parsed DataFrame into a `gmaps.heatmap_layer` and turn it on.  "
   ]
  },
  {
   "cell_type": "code",
   "execution_count": 10,
   "metadata": {
    "collapsed": true
   },
   "outputs": [],
   "source": [
    "heatmap_layer = gmaps.heatmap_layer(df)\n",
    "fig.add_layer(heatmap_layer)"
   ]
  },
  {
   "cell_type": "markdown",
   "metadata": {},
   "source": [
    "Final aesthetic stuff and alas..."
   ]
  },
  {
   "cell_type": "code",
   "execution_count": 11,
   "metadata": {
    "scrolled": false
   },
   "outputs": [
    {
     "data": {
      "application/vnd.jupyter.widget-view+json": {
       "model_id": "aacefc26444a4d52a08bf47f7f0d6e77",
       "version_major": 2,
       "version_minor": 0
      },
      "text/html": [
       "<p>Failed to display Jupyter Widget of type <code>Figure</code>.</p>\n",
       "<p>\n",
       "  If you're reading this message in Jupyter Notebook or JupyterLab, it may mean\n",
       "  that the widgets JavaScript is still loading. If this message persists, it\n",
       "  likely means that the widgets JavaScript library is either not installed or\n",
       "  not enabled. See the <a href=\"https://ipywidgets.readthedocs.io/en/stable/user_install.html\">Jupyter\n",
       "  Widgets Documentation</a> for setup instructions.\n",
       "</p>\n",
       "<p>\n",
       "  If you're reading this message in another notebook frontend (for example, a static\n",
       "  rendering on GitHub or <a href=\"https://nbviewer.jupyter.org/\">NBViewer</a>),\n",
       "  it may mean that your frontend doesn't currently support widgets.\n",
       "</p>\n"
      ],
      "text/plain": [
       "Figure()"
      ]
     },
     "metadata": {},
     "output_type": "display_data"
    }
   ],
   "source": [
    "heatmap_layer.gradient = [\n",
    "    (255,255,0,0),\n",
    "    'red',\n",
    "    'red'\n",
    "]\n",
    "heatmap_layer.point_radius = 30\n",
    "fig"
   ]
  },
  {
   "cell_type": "markdown",
   "metadata": {},
   "source": [
    "### Uh oh GitHub can't display a gmaps widget yet :(\n",
    "---\n",
    "It should be fine though if you cloned this repository, followed the installation guide for `gmaps`, and ran the cells again.  \n",
    "The screenshot at the top is the output of the last cell minus the interactivity that a `gmaps` Javascript figure provides.  \n",
    "Thanks for reading and good luck :)"
   ]
  }
 ],
 "metadata": {
  "kernelspec": {
   "display_name": "Python 3",
   "language": "python",
   "name": "python3"
  },
  "language_info": {
   "codemirror_mode": {
    "name": "ipython",
    "version": 3
   },
   "file_extension": ".py",
   "mimetype": "text/x-python",
   "name": "python",
   "nbconvert_exporter": "python",
   "pygments_lexer": "ipython3",
   "version": "3.6.3"
  }
 },
 "nbformat": 4,
 "nbformat_minor": 2
}
